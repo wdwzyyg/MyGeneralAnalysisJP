{
 "cells": [
  {
   "cell_type": "code",
   "execution_count": 1,
   "metadata": {},
   "outputs": [],
   "source": [
    "import math\n",
    "import numpy as np\n",
    "import matplotlib.pyplot as plt\n",
    "from pylab import *             #  for sqrt\n",
    "from scipy.integrate import *   # for quad\n",
    "from scipy.special import *     # for j0()"
   ]
  },
  {
   "cell_type": "code",
   "execution_count": 92,
   "metadata": {},
   "outputs": [
    {
     "data": {
      "text/plain": [
       "0.019687759441094063"
      ]
     },
     "execution_count": 92,
     "metadata": {},
     "output_type": "execute_result"
    }
   ],
   "source": [
    "wavelen(300)"
   ]
  },
  {
   "cell_type": "code",
   "execution_count": 2,
   "metadata": {},
   "outputs": [],
   "source": [
    "def wavelen(kev):\n",
    "    return( 12.3986/sqrt((2*511.0+kev)*kev) )\n",
    "\n",
    "def stemcalc( k, params ):\n",
    "    kev = params[0]\n",
    "    Cs3 = params[1]*1.0e7\n",
    "    #  first calculate the psf using stemhr()\n",
    "    nr = 100  # number of points in integral over r\n",
    "    # wav = wavelen(kev)  # electron wavelength\n",
    "    Cs = abs(Cs3)\n",
    "    if Cs < 0.1e7 : Cs = 0.1e7\n",
    "    # rmax = 2.0*sqrt( sqrt( Cs*wav*wav*wav) )\n",
    "    r = np.linspace(0, 5.0, nr)\n",
    "    if params[4] != 0:\n",
    "        psf = stemhrCc( r, params )\n",
    "    else:\n",
    "        # params = [kev, Cs3, Cs5, df, amax ]\n",
    "        psf = stemhr(r, params[0:5])\n",
    "    # next invert psf to get mtf\n",
    "    nk = len( k )\n",
    "    mtf = empty( nk )\n",
    "    for ik in range(0, nk, 1 ):\n",
    "        h = psf * j0(2*pi*r*k[ik] ) *r\n",
    "        mtf[ik] = sum(h)\n",
    "\n",
    "    a = mtf[0]\n",
    "    mtf = mtf/a  # normalize to mtf(0)=1\n",
    "    return mtf, psf\n",
    "\n",
    "def stemhrCc( r, params ):\n",
    "    NGH = 9  # number of Gauss-Hermete coeff. to use\n",
    "    # absiccas and weights for Gauss-Hermite Quadrature \n",
    "    xGH= np.array([ 3.190993201781528, 2.266580584531843, 1.468553289216668,\n",
    "        0.723551018752838, 0.000000000000000, -0.723551018752838,\n",
    "        -1.468553289216668,-2.266580584531843,-3.190993201781528] )\n",
    "    wGH= np.array( [3.960697726326e-005, 4.943624275537e-003 ,8.847452739438e-002,\n",
    "        4.326515590026e-001, 7.202352156061e-001, 4.326515590026e-001,\n",
    "        8.847452739438e-002, 4.943624275537e-003, 3.960697726326e-005] )\n",
    "    \n",
    "    df0 = params[ 3 ]   #  defocus mean\n",
    "    ddf = params[ 5 ]   # defocus spread FWHM in Angst.\n",
    "\n",
    "    #  no defocus integration with small df spread\n",
    "    if( ddf < 1.0 ):\n",
    "        psf = stemhr( r, params )\n",
    "        a = max(psf)\n",
    "        psf = psf/a  # norm. probe intensity to a max. of 1\n",
    "        return psf\n",
    "\n",
    "    nr = len( r )\n",
    "    psf = empty(nr) # make array to fill\n",
    "    psf = 0\n",
    "\n",
    "    #  integrate over defocus spread\n",
    "    ndf = NGH\n",
    "    ddf2 = sqrt(log(2.0)/(ddf*ddf/4.0))  # convert from FWHM \n",
    "    for idf in range(0, ndf, 1):\n",
    "        df = df0 + xGH[idf]/ddf2\n",
    "        weight =  wGH[idf]\n",
    "        #print \"df step \", idf, \" df= \", df  # debug\n",
    "        params[3] = df\n",
    "        psf1 = stemhr( r, params )\n",
    "        a = sum( psf1 * r )  # normalize to total current\n",
    "        psf = psf + weight*psf1/a\n",
    "\n",
    "    params[ 3 ] = df0    #  restore original value\n",
    "    a = max(psf)\n",
    "    psf = psf/a  # norm. probe intensity to a max. of 1\n",
    "    return psf\n",
    "\n",
    "def stemhr( r, params ):\n",
    "    global w2, w4, w6, intr  # constants for lensr,i()\n",
    "    kev = params[0]\n",
    "    Cs3 = params[1]*1.0e7\n",
    "    Cs5 = params[2]*1.0e7\n",
    "    df = params[3]\n",
    "    amax = params[4]*0.001\n",
    "    wav = wavelen(kev)  # electron wavelength\n",
    "    kmax = amax/wav\n",
    "    w2 = wav*pi*df\n",
    "    w4 = 0.5*pi*Cs3*wav*wav*wav\n",
    "    w6 = pi*Cs5*wav*wav*wav*wav*wav /3.0\n",
    "    nr = len( r )\n",
    "    psf = empty(nr) # make array to fill\n",
    "    for ir in range(0, nr, 1):\n",
    "        intr = 2*pi*r[ir]\n",
    "        # use adaptive quadrature because integrand\n",
    "        #     not well behaved\n",
    "        hrr= quad( lensr, 0, kmax )\n",
    "        hri= quad( lensi, 0, kmax )\n",
    "        psf[ir] = hrr[0]*hrr[0] + hri[0]*hri[0]\n",
    "\n",
    "    a = max(psf)\n",
    "    psf = psf/a  # norm. probe intensity to a max. of 1\n",
    "    return psf\n",
    "\n",
    "def lensr( k ):    #  real part\n",
    "    global w2, w4, w6, intr  # constants\n",
    "    k2 = k*k\n",
    "    w = ( (w6*k2 + w4) *k2 - w2 )*k2\n",
    "    return cos(w) * j0( intr*k )*k\n",
    "\n",
    "def lensi( k ):    #  imag part\n",
    "    global w2, w4, w6, intr  # constants\n",
    "    k2 = k*k\n",
    "    w = ( (w6*k2 + w4) *k2 - w2 )*k2\n",
    "    return -sin(w) * j0( intr*k )*k"
   ]
  },
  {
   "cell_type": "code",
   "execution_count": 3,
   "metadata": {},
   "outputs": [],
   "source": [
    "# The parametrized function to be plotteD\n",
    "def f(k, energy, C3, C5, defocus, semiangle, ddf):\n",
    "    return stemcalc(k, [energy, C3, C5, defocus, semiangle, 0])"
   ]
  },
  {
   "cell_type": "code",
   "execution_count": 10,
   "metadata": {},
   "outputs": [],
   "source": [
    "k = np.linspace(0, 2.2, 100)\n",
    "r = np.linspace(0, 5.0, 100)\n",
    "init_energy = 200\n",
    "init_C3 = init_C5 = init_defocus = 0\n",
    "init_semiangle = 16.66\n",
    "ctf, psf = f(k, init_energy, init_C3, init_C5, init_defocus, init_semiangle, 0)"
   ]
  },
  {
   "cell_type": "code",
   "execution_count": 11,
   "metadata": {},
   "outputs": [
    {
     "name": "stdout",
     "output_type": "stream",
     "text": [
      "The probe diameter is 1.21 angstrom\n"
     ]
    }
   ],
   "source": [
    "probe = r[np.where((psf > 0.1))]\n",
    "probeD = np.round(probe.max()*2, 2)# 0.05A precise\n",
    "print( 'The probe diameter is', probeD, 'angstrom')"
   ]
  },
  {
   "cell_type": "code",
   "execution_count": 50,
   "metadata": {
    "scrolled": true
   },
   "outputs": [
    {
     "data": {
      "text/plain": [
       "Text(0.5, 1.0, 'STEM Point Spread Function Plot')"
      ]
     },
     "execution_count": 50,
     "metadata": {},
     "output_type": "execute_result"
    },
    {
     "data": {
      "image/png": "[encoded data removed]",
      "text/plain": [
       "<Figure size 720x504 with 2 Axes>"
      ]
     },
     "metadata": {
      "needs_background": "light"
     },
     "output_type": "display_data"
    }
   ],
   "source": [
    "    fig, (ax1, ax2) = plt.subplots(1, 2, figsize=[10,7])\n",
    "    ctf, psf = f(k, init_energy, init_C3, init_C5, init_defocus, init_semiangle, 0)\n",
    "\n",
    "    line1, = ax1.plot(k, ctf, lw=2)\n",
    "    ax1.set_xlabel('Spatial Frequency (1/$\\AA$)',fontsize = 16)\n",
    "    ax1.set_ylabel('CTF/PSF', fontsize = 16)\n",
    "    ax1.set_ylim([-0.1,1])\n",
    "    ax1.set_title('STEM Contrast Transfer Function Plot')\n",
    "    axcolor = 'lightgoldenrodyellow'\n",
    "    ax1.margins(x = 0)\n",
    "    ax1.axhline(y = 0, color =\"C1\", linestyle =\"--\")\n",
    "    vline_5pct = ax1.axvline(x = k[np.where((ctf > 0.05) | (ctf < -0.05))[0][-1]], linewidth=2, \n",
    "                                 color= 'C2', label = '5% Info Limit')\n",
    "    ax1.legend(fontsize = 12, loc = 'upper right')\n",
    "\n",
    "    line2, = ax2.plot(r, psf, lw=2,color='#1f77b4')\n",
    "    line22, = ax2.plot(-r, psf, lw=2,color='#1f77b4')\n",
    "    ax2.set_xlabel('Radius ($\\AA$)',fontsize = 16)\n",
    "    # ax2.set_ylabel('PSF', fontsize = 16)\n",
    "    ax2.set_ylim([-0.1,1])\n",
    "    axcolor = 'lightgoldenrodyellow'\n",
    "    ax2.margins(x = 0)\n",
    "    ax2.axhline(y = 0, color =\"C1\", linestyle =\"--\")\n",
    "    ax2.set_title('STEM Point Spread Function Plot')"
   ]
  },
  {
   "cell_type": "code",
   "execution_count": null,
   "metadata": {},
   "outputs": [],
   "source": []
  }
 ],
 "metadata": {
  "kernelspec": {
   "display_name": "Python 3",
   "language": "python",
   "name": "python3"
  },
  "language_info": {
   "codemirror_mode": {
    "name": "ipython",
    "version": 3
   },
   "file_extension": ".py",
   "mimetype": "text/x-python",
   "name": "python",
   "nbconvert_exporter": "python",
   "pygments_lexer": "ipython3",
   "version": "3.9.4"
  }
 },
 "nbformat": 4,
 "nbformat_minor": 2
}
