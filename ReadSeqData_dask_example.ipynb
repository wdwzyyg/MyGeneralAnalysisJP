{
 "cells": [
  {
   "cell_type": "markdown",
   "id": "c0496e3b",
   "metadata": {},
   "source": [
    "# Package install"
   ]
  },
  {
   "cell_type": "markdown",
   "id": "b78165c0",
   "metadata": {},
   "source": [
    "Once ssh into the cluster, install these packages by running:\n",
    "\n",
    "- pip install \"dask[complete]\"==2022.11.1\n",
    "- pip install seq-io\n",
    "- pip install hyperspy\n",
    "- pip install pyxem"
   ]
  },
  {
   "cell_type": "markdown",
   "id": "a6d89f88",
   "metadata": {},
   "source": [
    "# Load seq file, apply dark and gain correction"
   ]
  },
  {
   "cell_type": "markdown",
   "id": "be5dbc9f",
   "metadata": {},
   "source": [
    "## initialize a dask job scheduler"
   ]
  },
  {
   "cell_type": "code",
   "execution_count": null,
   "id": "2063f8fc",
   "metadata": {},
   "outputs": [],
   "source": [
    "from dask.distributed import Client, LocalCluster\n",
    "cluster = LocalCluster(n_workers=40,\n",
    "                      threads_per_worker=1)\n",
    "client = Client(cluster)\n",
    "client"
   ]
  },
  {
   "cell_type": "markdown",
   "id": "f97f9a4a",
   "metadata": {},
   "source": [
    "The client will be assigned to a port where you can monitor the job status. You can forward that port from compute node to head node by run forward.sh as shown below, and that ssh to the port on your computer. \n",
    "\n",
    "Once you've entered the compute node, run: forward.sh"
   ]
  },
  {
   "cell_type": "code",
   "execution_count": null,
   "id": "281f9751",
   "metadata": {
    "scrolled": false
   },
   "outputs": [],
   "source": [
    "# forward.sh\n",
    "\n",
    "#!/bin/sh\n",
    "XDG_RUNTIME_DIR=/srv/home/[name]                    # setting the runtime directory.\n",
    "\n",
    "#Pick a random or predefined port\n",
    "PORT=$(shuf -i 6000-9999 -n 1)  # Random\n",
    "#PORT=8775                             #Constant port\n",
    "echo serving from port $PORT   # print out \n",
    "ssh -fN -R $PORT:localhost:$PORT [name]@mscdata.msae.wisc.edu \n",
    "echo Connect to the port by running ssh -C -L $PORT:localhost:$PORT [name]@mscdata.msae.wisc.edu on your computer\n"
   ]
  },
  {
   "cell_type": "markdown",
   "id": "c0c0b6a2",
   "metadata": {},
   "source": [
    "## load seq file"
   ]
  },
  {
   "cell_type": "code",
   "execution_count": 7,
   "id": "0415c0dc",
   "metadata": {},
   "outputs": [],
   "source": [
    "import SeqIO\n",
    "import numpy as np\n",
    "import math\n",
    "import matplotlib.pyplot as plt\n",
    "import glob,os\n",
    "import math\n",
    "import sys\n",
    "import hyperspy.api as hs\n",
    "from hyperspy import io_plugins"
   ]
  },
  {
   "cell_type": "code",
   "execution_count": 8,
   "id": "8a2b837a",
   "metadata": {
    "scrolled": true
   },
   "outputs": [
    {
     "name": "stderr",
     "output_type": "stream",
     "text": [
      "WARNING:hyperspy.io:`signal_type='Signal2D'` not understood. See `hs.print_known_signal_types()` for a list of installed signal types or https://github.com/hyperspy/hyperspy-extensions-list for the list of all hyperspy extensions providing signals.\n"
     ]
    },
    {
     "data": {
      "text/html": [
       "<table>\n",
       "    <tr>\n",
       "        <td>\n",
       "            <table style=\"border-collapse: collapse;\">\n",
       "                <thead>\n",
       "                    <tr>\n",
       "                        <td> </td>\n",
       "                        <th> Array </th>\n",
       "                        <th> Chunk </th>\n",
       "                    </tr>\n",
       "                </thead>\n",
       "                <tbody>\n",
       "                    \n",
       "                    <tr>\n",
       "                        <th> Bytes </th>\n",
       "                        <td> 11.87 GiB </td>\n",
       "                        <td> 200.00 MiB </td>\n",
       "                    </tr>\n",
       "                    \n",
       "                    <tr>\n",
       "                        <th> Shape </th>\n",
       "                        <td> (12155, 512, 512) </td>\n",
       "                        <td> (200, 512, 512) </td>\n",
       "                    </tr>\n",
       "                    <tr>\n",
       "                        <th> Dask graph </th>\n",
       "                        <td colspan=\"2\"> 61 chunks in 5 graph layers </td>\n",
       "                    </tr>\n",
       "                    <tr>\n",
       "                        <th> Data type </th>\n",
       "                        <td colspan=\"2\"> float32 numpy.ndarray </td>\n",
       "                    </tr>\n",
       "                </tbody>\n",
       "            </table>\n",
       "        </td>\n",
       "        <td>\n",
       "        <svg width=\"164\" height=\"154\" style=\"stroke:rgb(0,0,0);stroke-width:1\" >\n",
       "\n",
       "  <!-- Horizontal lines -->\n",
       "  <line x1=\"10\" y1=\"0\" x2=\"80\" y2=\"70\" style=\"stroke-width:2\" />\n",
       "  <line x1=\"10\" y1=\"33\" x2=\"80\" y2=\"104\" style=\"stroke-width:2\" />\n",
       "\n",
       "  <!-- Vertical lines -->\n",
       "  <line x1=\"10\" y1=\"0\" x2=\"10\" y2=\"33\" style=\"stroke-width:2\" />\n",
       "  <line x1=\"13\" y1=\"3\" x2=\"13\" y2=\"36\" />\n",
       "  <line x1=\"16\" y1=\"6\" x2=\"16\" y2=\"40\" />\n",
       "  <line x1=\"20\" y1=\"10\" x2=\"20\" y2=\"43\" />\n",
       "  <line x1=\"23\" y1=\"13\" x2=\"23\" y2=\"47\" />\n",
       "  <line x1=\"28\" y1=\"18\" x2=\"28\" y2=\"51\" />\n",
       "  <line x1=\"31\" y1=\"21\" x2=\"31\" y2=\"55\" />\n",
       "  <line x1=\"35\" y1=\"25\" x2=\"35\" y2=\"58\" />\n",
       "  <line x1=\"38\" y1=\"28\" x2=\"38\" y2=\"62\" />\n",
       "  <line x1=\"42\" y1=\"32\" x2=\"42\" y2=\"65\" />\n",
       "  <line x1=\"46\" y1=\"36\" x2=\"46\" y2=\"70\" />\n",
       "  <line x1=\"50\" y1=\"40\" x2=\"50\" y2=\"73\" />\n",
       "  <line x1=\"53\" y1=\"43\" x2=\"53\" y2=\"77\" />\n",
       "  <line x1=\"57\" y1=\"47\" x2=\"57\" y2=\"80\" />\n",
       "  <line x1=\"60\" y1=\"50\" x2=\"60\" y2=\"84\" />\n",
       "  <line x1=\"65\" y1=\"55\" x2=\"65\" y2=\"89\" />\n",
       "  <line x1=\"69\" y1=\"59\" x2=\"69\" y2=\"92\" />\n",
       "  <line x1=\"72\" y1=\"62\" x2=\"72\" y2=\"95\" />\n",
       "  <line x1=\"76\" y1=\"66\" x2=\"76\" y2=\"99\" />\n",
       "  <line x1=\"80\" y1=\"70\" x2=\"80\" y2=\"104\" style=\"stroke-width:2\" />\n",
       "\n",
       "  <!-- Colored Rectangle -->\n",
       "  <polygon points=\"10.0,0.0 80.58823529411765,70.58823529411765 80.58823529411765,104.03858193229473 10.0,33.45034663817708\" style=\"fill:#8B4903A0;stroke-width:0\"/>\n",
       "\n",
       "  <!-- Horizontal lines -->\n",
       "  <line x1=\"10\" y1=\"0\" x2=\"43\" y2=\"0\" style=\"stroke-width:2\" />\n",
       "  <line x1=\"13\" y1=\"3\" x2=\"46\" y2=\"3\" />\n",
       "  <line x1=\"16\" y1=\"6\" x2=\"50\" y2=\"6\" />\n",
       "  <line x1=\"20\" y1=\"10\" x2=\"53\" y2=\"10\" />\n",
       "  <line x1=\"23\" y1=\"13\" x2=\"57\" y2=\"13\" />\n",
       "  <line x1=\"28\" y1=\"18\" x2=\"61\" y2=\"18\" />\n",
       "  <line x1=\"31\" y1=\"21\" x2=\"65\" y2=\"21\" />\n",
       "  <line x1=\"35\" y1=\"25\" x2=\"68\" y2=\"25\" />\n",
       "  <line x1=\"38\" y1=\"28\" x2=\"72\" y2=\"28\" />\n",
       "  <line x1=\"42\" y1=\"32\" x2=\"75\" y2=\"32\" />\n",
       "  <line x1=\"46\" y1=\"36\" x2=\"80\" y2=\"36\" />\n",
       "  <line x1=\"50\" y1=\"40\" x2=\"83\" y2=\"40\" />\n",
       "  <line x1=\"53\" y1=\"43\" x2=\"87\" y2=\"43\" />\n",
       "  <line x1=\"57\" y1=\"47\" x2=\"90\" y2=\"47\" />\n",
       "  <line x1=\"60\" y1=\"50\" x2=\"94\" y2=\"50\" />\n",
       "  <line x1=\"65\" y1=\"55\" x2=\"99\" y2=\"55\" />\n",
       "  <line x1=\"69\" y1=\"59\" x2=\"102\" y2=\"59\" />\n",
       "  <line x1=\"72\" y1=\"62\" x2=\"105\" y2=\"62\" />\n",
       "  <line x1=\"76\" y1=\"66\" x2=\"109\" y2=\"66\" />\n",
       "  <line x1=\"80\" y1=\"70\" x2=\"114\" y2=\"70\" style=\"stroke-width:2\" />\n",
       "\n",
       "  <!-- Vertical lines -->\n",
       "  <line x1=\"10\" y1=\"0\" x2=\"80\" y2=\"70\" style=\"stroke-width:2\" />\n",
       "  <line x1=\"43\" y1=\"0\" x2=\"114\" y2=\"70\" style=\"stroke-width:2\" />\n",
       "\n",
       "  <!-- Colored Rectangle -->\n",
       "  <polygon points=\"10.0,0.0 43.45034663817708,0.0 114.03858193229473,70.58823529411765 80.58823529411765,70.58823529411765\" style=\"fill:#8B4903A0;stroke-width:0\"/>\n",
       "\n",
       "  <!-- Horizontal lines -->\n",
       "  <line x1=\"80\" y1=\"70\" x2=\"114\" y2=\"70\" style=\"stroke-width:2\" />\n",
       "  <line x1=\"80\" y1=\"104\" x2=\"114\" y2=\"104\" style=\"stroke-width:2\" />\n",
       "\n",
       "  <!-- Vertical lines -->\n",
       "  <line x1=\"80\" y1=\"70\" x2=\"80\" y2=\"104\" style=\"stroke-width:2\" />\n",
       "  <line x1=\"114\" y1=\"70\" x2=\"114\" y2=\"104\" style=\"stroke-width:2\" />\n",
       "\n",
       "  <!-- Colored Rectangle -->\n",
       "  <polygon points=\"80.58823529411765,70.58823529411765 114.03858193229473,70.58823529411765 114.03858193229473,104.03858193229473 80.58823529411765,104.03858193229473\" style=\"fill:#ECB172A0;stroke-width:0\"/>\n",
       "\n",
       "  <!-- Text -->\n",
       "  <text x=\"97.313409\" y=\"124.038582\" font-size=\"1.0rem\" font-weight=\"100\" text-anchor=\"middle\" >512</text>\n",
       "  <text x=\"134.038582\" y=\"87.313409\" font-size=\"1.0rem\" font-weight=\"100\" text-anchor=\"middle\" transform=\"rotate(-90,134.038582,87.313409)\">512</text>\n",
       "  <text x=\"35.294118\" y=\"88.744464\" font-size=\"1.0rem\" font-weight=\"100\" text-anchor=\"middle\" transform=\"rotate(45,35.294118,88.744464)\">12155</text>\n",
       "</svg>\n",
       "        </td>\n",
       "    </tr>\n",
       "</table>"
      ],
      "text/plain": [
       "dask.array<getitem, shape=(12155, 512, 512), dtype=float32, chunksize=(200, 512, 512), chunktype=numpy.ndarray>"
      ]
     },
     "execution_count": 8,
     "metadata": {},
     "output_type": "execute_result"
    }
   ],
   "source": [
    "folder = '/srv/home/jwei74/Electrondetection/MTFDQE/MTF_rolling_counting_200kV/rawdata/' # the folder that contains all the files of the movie\n",
    "signal = SeqIO.load_folder(folder, lazy=True, chunk_shape=(200,)) # set the chunk shape based on your dataset dimension\n",
    "\n",
    "signal = signal.inav[103430:115585].isig[256:-256,256:-256] \n",
    "# you can load part of the data set by slicing the real space coordinates use .inav, or slicing the diffraction space using .isig\n",
    "signal.data # show a panel view of your data info"
   ]
  },
  {
   "cell_type": "code",
   "execution_count": null,
   "id": "ab5e647d",
   "metadata": {},
   "outputs": [],
   "source": [
    "# By running signal.compute(), it will start to load the chuncks into memory and do dark/gain correction.\n",
    "# You can also directly run signal.save to start compute and save the result once the compute() is finished.\n",
    "\n",
    "signal.save('/srv/home/jwei74/Electrondetection/MTFDQE/MTF_rolling_counting_200kV/chunk_to_be_count_no_gaincr_3.zspy')"
   ]
  },
  {
   "cell_type": "markdown",
   "id": "43edcf37",
   "metadata": {},
   "source": [
    "# For more analysis using pyxem, please refer to the documentation and example notebooks\n",
    "https://github.com/CSSFrancis/Analysis/blob/master/pyXEM-30MinTutorial.ipynb\n",
    "\n",
    "\n",
    "https://github.com/pyxem/pyxem-demos.git\n",
    "\n",
    "\n",
    "https://pyxem.readthedocs.io/en/latest/\n"
   ]
  },
  {
   "cell_type": "code",
   "execution_count": null,
   "id": "d50a6998",
   "metadata": {},
   "outputs": [],
   "source": []
  }
 ],
 "metadata": {
  "kernelspec": {
   "display_name": "Python 3",
   "language": "python",
   "name": "python3"
  },
  "language_info": {
   "codemirror_mode": {
    "name": "ipython",
    "version": 3
   },
   "file_extension": ".py",
   "mimetype": "text/x-python",
   "name": "python",
   "nbconvert_exporter": "python",
   "pygments_lexer": "ipython3",
   "version": "3.9.4"
  }
 },
 "nbformat": 4,
 "nbformat_minor": 5
}
